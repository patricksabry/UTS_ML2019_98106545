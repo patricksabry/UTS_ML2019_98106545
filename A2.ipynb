{
  "nbformat": 4,
  "nbformat_minor": 0,
  "metadata": {
    "colab": {
      "name": "A2.ipynb",
      "provenance": [],
      "include_colab_link": true
    },
    "kernelspec": {
      "name": "python3",
      "display_name": "Python 3"
    }
  },
  "cells": [
    {
      "cell_type": "markdown",
      "metadata": {
        "id": "view-in-github",
        "colab_type": "text"
      },
      "source": [
        "<a href=\"https://colab.research.google.com/github/patricksabry/UTS_ML2019_ID98106545/blob/master/A2.ipynb\" target=\"_parent\"><img src=\"https://colab.research.google.com/assets/colab-badge.svg\" alt=\"Open In Colab\"/></a>"
      ]
    },
    {
      "cell_type": "markdown",
      "metadata": {
        "id": "wfny356y0zzP",
        "colab_type": "text"
      },
      "source": [
        "# Scalable Recommendation System using Spark (PySpark)\n",
        "\n",
        "The following notebook outlines the implementation of a content based recommendation system using Apache Spark. Spark will be used for scalable parallel memory-based data processing. This will ensure that this algorithm implementation is highly scalable based on how large of a compute cluster it is run on. Spark's ML library will be accessed via PySpark, Spark's high level Python API.\n",
        "\n",
        "The dataset used for the recommendation system will be the open sourced MovieLens dataset. Movies will be recommended based on collaborative filtering using an Alternate Least Squares algorithm to find similar user ratings for certain movies.\n",
        "\n",
        "$\\hat{r}$ = $\\sum_{f=0}^{n factors}$ $H_{u,f}$$W_{f,i}$\n",
        "\n",
        "Whereby for any item $i$ given by user $u$ the rating of the item can be expressed as a matrix dot ptoduct of the user latent vector $H$ and the item latent vector $W$."
      ]
    },
    {
      "cell_type": "markdown",
      "metadata": {
        "id": "w9bOh0fE1xF8",
        "colab_type": "text"
      },
      "source": [
        "## Loading the dataset & exploration\n",
        "\n"
      ]
    },
    {
      "cell_type": "code",
      "metadata": {
        "id": "90C_MDSQJCYe",
        "colab_type": "code",
        "colab": {
          "base_uri": "https://localhost:8080/",
          "height": 255
        },
        "outputId": "59431c98-0e78-4df2-d163-d11b2515f68c"
      },
      "source": [
        "from google.colab import files\n",
        "import io\n",
        "import pandas as pd\n",
        "\n",
        "movies_url = 'https://raw.githubusercontent.com/patricksabry/UTS_ML2019_ID98106545/master/movies.csv'\n",
        "ratings_url = 'https://raw.githubusercontent.com/patricksabry/UTS_ML2019_ID98106545/master/ratings.csv'\n",
        "df_movies = pd.read_csv(movies_url)\n",
        "df_ratings = pd.read_csv(ratings_url)\n",
        "\n",
        "print(df_movies.head())\n",
        "print(df_ratings.head())"
      ],
      "execution_count": 19,
      "outputs": [
        {
          "output_type": "stream",
          "text": [
            "   movieId  ...                                       genres\n",
            "0        1  ...  Adventure|Animation|Children|Comedy|Fantasy\n",
            "1        2  ...                   Adventure|Children|Fantasy\n",
            "2        3  ...                               Comedy|Romance\n",
            "3        4  ...                         Comedy|Drama|Romance\n",
            "4        5  ...                                       Comedy\n",
            "\n",
            "[5 rows x 3 columns]\n",
            "   userId  movieId  rating  timestamp\n",
            "0       1        1     4.0  964982703\n",
            "1       1        3     4.0  964981247\n",
            "2       1        6     4.0  964982224\n",
            "3       1       47     5.0  964983815\n",
            "4       1       50     5.0  964982931\n"
          ],
          "name": "stdout"
        }
      ]
    },
    {
      "cell_type": "code",
      "metadata": {
        "id": "K3vDFKIMMYnd",
        "colab_type": "code",
        "colab": {
          "base_uri": "https://localhost:8080/",
          "height": 170
        },
        "outputId": "e511fa35-76ab-44ea-c5f7-42f4b82106da"
      },
      "source": [
        "df = pd.merge(df_ratings, df_movies, on='movieId')\n",
        "print(df.head())\n",
        "df.shape"
      ],
      "execution_count": 35,
      "outputs": [
        {
          "output_type": "stream",
          "text": [
            "   userId  ...                                       genres\n",
            "0       1  ...  Adventure|Animation|Children|Comedy|Fantasy\n",
            "1       5  ...  Adventure|Animation|Children|Comedy|Fantasy\n",
            "2       7  ...  Adventure|Animation|Children|Comedy|Fantasy\n",
            "3      15  ...  Adventure|Animation|Children|Comedy|Fantasy\n",
            "4      17  ...  Adventure|Animation|Children|Comedy|Fantasy\n",
            "\n",
            "[5 rows x 6 columns]\n"
          ],
          "name": "stdout"
        },
        {
          "output_type": "execute_result",
          "data": {
            "text/plain": [
              "(100836, 6)"
            ]
          },
          "metadata": {
            "tags": []
          },
          "execution_count": 35
        }
      ]
    },
    {
      "cell_type": "code",
      "metadata": {
        "id": "blrulWg4NvNC",
        "colab_type": "code",
        "colab": {
          "base_uri": "https://localhost:8080/",
          "height": 34
        },
        "outputId": "c51d63bd-49d0-4e03-a40e-8704842b3241"
      },
      "source": [
        "num_ratings = df.rating.count()\n",
        "num_movies = df['movieId'].nunique()\n",
        "num_users = df['userId'].nunique()\n",
        "\n",
        "print(\"Observed \" + str(num_ratings) + \" ratings from \" + str(num_users) + \" users on \" + str(num_movies) + \" movies\")"
      ],
      "execution_count": 31,
      "outputs": [
        {
          "output_type": "stream",
          "text": [
            "Observed 100836 ratings from 610 users on 9724 movies\n"
          ],
          "name": "stdout"
        }
      ]
    },
    {
      "cell_type": "code",
      "metadata": {
        "id": "VM1FTEjqRAIb",
        "colab_type": "code",
        "colab": {
          "base_uri": "https://localhost:8080/",
          "height": 269
        },
        "outputId": "90bb508b-b071-4232-9bdb-c3b59ea63637"
      },
      "source": [
        "import matplotlib.pyplot as plt\n",
        "import seaborn as sns\n",
        "\n",
        "x = df['rating'].values\n",
        "sns.distplot(x)\n",
        "plt.show()"
      ],
      "execution_count": 34,
      "outputs": [
        {
          "output_type": "display_data",
          "data": {
            "image/png": "[encoded data removed]",
            "text/plain": [
              "<Figure size 432x288 with 1 Axes>"
            ]
          },
          "metadata": {
            "tags": []
          }
        }
      ]
    },
    {
      "cell_type": "markdown",
      "metadata": {
        "id": "ZxEPCMxDR0RR",
        "colab_type": "text"
      },
      "source": [
        "## function to compute RMSE for ALS algorithm\n",
        "\n",
        "RMSE will be used as an error measure between predictions and base truth ratings. The aim of the ALS algorithm is to minimise the RMSE between the val/test datasets."
      ]
    },
    {
      "cell_type": "code",
      "metadata": {
        "id": "jAbwfvvCSjWt",
        "colab_type": "code",
        "colab": {}
      },
      "source": [
        "def compute_rmse(predictions, targets):\n",
        "    return np.sqrt(((predictions - targets) ** 2).mean())"
      ],
      "execution_count": 0,
      "outputs": []
    },
    {
      "cell_type": "markdown",
      "metadata": {
        "id": "4IjMIzvjYMIA",
        "colab_type": "text"
      },
      "source": [
        "## Train / Val / Test split"
      ]
    },
    {
      "cell_type": "markdown",
      "metadata": {
        "id": "0s4qobgK5aiH",
        "colab_type": "text"
      },
      "source": [
        "## Downloading Spark dependencies & initializing enviornment\n"
      ]
    },
    {
      "cell_type": "code",
      "metadata": {
        "id": "3YJQG-6uy2sc",
        "colab_type": "code",
        "colab": {}
      },
      "source": [
        "!apt-get install openjdk-8-jdk-headless -qq > /dev/null\n",
        "!wget -q https://www-us.apache.org/dist/spark/spark-2.3.4/spark-2.3.4-bin-hadoop2.7.tgz\n",
        "!tar xf spark-2.3.4-bin-hadoop2.7.tgz\n",
        "!pip install -q findspark"
      ],
      "execution_count": 0,
      "outputs": []
    },
    {
      "cell_type": "code",
      "metadata": {
        "id": "thDdgQ2B0dy_",
        "colab_type": "code",
        "colab": {}
      },
      "source": [
        "import os\n",
        "os.environ[\"JAVA_HOME\"] = \"/usr/lib/jvm/java-8-openjdk-amd64\"\n",
        "os.environ[\"SPARK_HOME\"] = \"/content/spark-2.3.4-bin-hadoop2.7\""
      ],
      "execution_count": 0,
      "outputs": []
    },
    {
      "cell_type": "code",
      "metadata": {
        "id": "XquY2IkQzUWM",
        "colab_type": "code",
        "colab": {}
      },
      "source": [
        "import findspark\n",
        "findspark.init()\n",
        "from pyspark.sql import SparkSession\n",
        "sc = SparkSession.builder.master(\"local[*]\").getOrCreate()"
      ],
      "execution_count": 0,
      "outputs": []
    },
    {
      "cell_type": "code",
      "metadata": {
        "id": "CVdDL0qecBiC",
        "colab_type": "code",
        "colab": {}
      },
      "source": [
        "from pyspark.mllib.recommendation import ALS, MatrixFactorizationModel, Rating\n",
        "from pyspark.sql.types import FloatType\n",
        "from pyspark.ml.evaluation import RegressionEvaluator\n",
        "from pyspark.sql.functions import col\n",
        "from pyspark.sql import SQLContext"
      ],
      "execution_count": 0,
      "outputs": []
    },
    {
      "cell_type": "code",
      "metadata": {
        "id": "WgM-TKuyYLSb",
        "colab_type": "code",
        "colab": {
          "base_uri": "https://localhost:8080/",
          "height": 785
        },
        "outputId": "e4bce602-58f0-4bd1-96a4-2edbcd93ce43"
      },
      "source": [
        "from pyspark.ml.recommendation import ALS\n",
        "spark_df = sc.createDataFrame(df)\n",
        "spark_df.show(n=5)\n",
        "\n",
        "X_train, X_test = spark_df.randomSplit([0.7,0.3])\n",
        "\n",
        "# Build the recommendation model using ALS on the training data\n",
        "als = ALS(maxIter=5, regParam=0.01, userCol=\"userId\", itemCol=\"movieId\", ratingCol=\"rating\", coldStartStrategy=\"drop\")\n",
        "model = als.fit(X_train)\n",
        "\n",
        "# Evaluate the model by computing the RMSE on the test data\n",
        "predictions = model.transform(X_test)\n",
        "evaluator = RegressionEvaluator(metricName=\"rmse\", labelCol=\"rating\",\n",
        "                                predictionCol=\"prediction\")\n",
        "rmse = evaluator.evaluate(predictions)\n",
        "print(\"Root-mean-square error = \" + str(rmse))\n",
        "\n",
        "# Generate top 10 movie recommendations for each user\n",
        "userRecs = model.recommendForAllUsers(10)\n",
        "# Generate top 10 user recommendations for each movie\n",
        "movieRecs = model.recommendForAllItems(10)\n",
        "userRecs.show(10,False)\n",
        "movieRecs.show(10,False)\n",
        "\n",
        "sc.stop()"
      ],
      "execution_count": 88,
      "outputs": [
        {
          "output_type": "stream",
          "text": [
            "+------+-------+------+----------+----------------+--------------------+\n",
            "|userId|movieId|rating| timestamp|           title|              genres|\n",
            "+------+-------+------+----------+----------------+--------------------+\n",
            "|     1|      1|   4.0| 964982703|Toy Story (1995)|Adventure|Animati...|\n",
            "|     5|      1|   4.0| 847434962|Toy Story (1995)|Adventure|Animati...|\n",
            "|     7|      1|   4.5|1106635946|Toy Story (1995)|Adventure|Animati...|\n",
            "|    15|      1|   2.5|1510577970|Toy Story (1995)|Adventure|Animati...|\n",
            "|    17|      1|   4.5|1305696483|Toy Story (1995)|Adventure|Animati...|\n",
            "+------+-------+------+----------+----------------+--------------------+\n",
            "only showing top 5 rows\n",
            "\n",
            "Root-mean-square error = 1.1171690529618739\n",
            "+------+--------------------------------------------------------------------------------------------------------------------------------------------------------------------------------------------------------+\n",
            "|userId|recommendations                                                                                                                                                                                         |\n",
            "+------+--------------------------------------------------------------------------------------------------------------------------------------------------------------------------------------------------------+\n",
            "|471   |[[2148, 8.566913], [49932, 8.555057], [4248, 8.484993], [45880, 8.465508], [1726, 8.120381], [48322, 7.637531], [4642, 7.550419], [68945, 7.526752], [81591, 7.4077315], [4056, 7.404457]]              |\n",
            "|463   |[[1237, 6.7517824], [86911, 6.6935954], [932, 6.6875124], [8638, 6.0533104], [4437, 6.0429115], [3089, 5.96169], [1289, 5.9145317], [166461, 5.810042], [2118, 5.808297], [158872, 5.8065586]]          |\n",
            "|496   |[[1194, 8.338988], [2469, 8.29229], [66934, 7.882496], [1327, 7.683294], [4450, 7.5143414], [4678, 7.333766], [3983, 7.260714], [2118, 7.1177835], [3877, 7.0979486], [2282, 7.082308]]                 |\n",
            "|148   |[[47997, 6.583492], [158872, 6.5590005], [89904, 6.3384037], [12, 6.3148327], [4056, 6.1271315], [31878, 6.0323825], [54256, 5.812586], [103228, 5.7692513], [1179, 5.7287083], [71530, 5.717598]]      |\n",
            "|540   |[[2867, 7.5220084], [1916, 7.2431636], [86320, 6.9607196], [5577, 6.914249], [4642, 6.720672], [4144, 6.674039], [56145, 6.6341977], [8477, 6.6275406], [417, 6.484208], [3035, 6.415759]]              |\n",
            "|392   |[[932, 9.3108425], [49932, 9.241129], [71379, 9.053834], [714, 8.656728], [1172, 8.533178], [102123, 8.303423], [170355, 8.120266], [55280, 8.108826], [103335, 8.06545], [3134, 7.9148927]]            |\n",
            "|243   |[[166461, 10.4168], [2772, 10.364216], [156609, 10.322856], [157296, 10.110584], [158872, 10.0925455], [37384, 10.087884], [142422, 10.034671], [119141, 9.672963], [2072, 9.608185], [86911, 9.591824]]|\n",
            "|31    |[[8371, 11.0337925], [932, 10.171523], [5621, 10.059439], [5784, 10.050952], [32892, 9.768566], [78637, 9.655801], [86320, 9.295569], [2720, 9.269275], [2672, 9.250013], [8810, 9.191125]]             |\n",
            "|516   |[[3030, 9.464729], [5291, 8.521022], [26326, 7.9635377], [25947, 7.9635377], [1212, 7.941747], [947, 7.6614113], [89753, 7.649201], [3317, 7.518608], [2239, 7.3503284], [1799, 7.2631235]]             |\n",
            "|580   |[[1411, 6.8082285], [27611, 6.7446], [89904, 6.2912292], [166461, 6.2436924], [3503, 6.1934834], [94677, 6.1409802], [3261, 6.02832], [49932, 6.007073], [134368, 5.997915], [714, 5.9683805]]          |\n",
            "+------+--------------------------------------------------------------------------------------------------------------------------------------------------------------------------------------------------------+\n",
            "only showing top 10 rows\n",
            "\n",
            "+-------+-------------------------------------------------------------------------------------------------------------------------------------------------------------------------------+\n",
            "|movieId|recommendations                                                                                                                                                                |\n",
            "+-------+-------------------------------------------------------------------------------------------------------------------------------------------------------------------------------+\n",
            "|1580   |[[145, 6.154994], [340, 5.3069067], [77, 4.986742], [207, 4.925502], [543, 4.8789687], [485, 4.865578], [43, 4.8070536], [507, 4.799597], [393, 4.798863], [429, 4.789283]]    |\n",
            "|4900   |[[402, 7.4841237], [363, 7.481065], [157, 7.378098], [258, 6.3359337], [192, 6.0689754], [206, 5.905359], [243, 5.8159], [468, 5.7014327], [67, 5.671842], [321, 5.6088476]]   |\n",
            "|5300   |[[8, 7.893638], [147, 7.7611394], [127, 6.3880887], [461, 6.3164663], [31, 6.242954], [333, 5.563528], [81, 5.439641], [569, 5.335478], [273, 5.1136627], [423, 5.0946026]]    |\n",
            "|6620   |[[8, 10.343086], [147, 8.557812], [406, 8.350479], [174, 8.136407], [349, 7.635173], [120, 7.3661137], [197, 6.90247], [289, 6.8042135], [118, 6.7131314], [556, 6.629703]]    |\n",
            "|7340   |[[77, 6.1935515], [259, 4.921291], [278, 4.9203424], [13, 4.7135935], [344, 4.124799], [554, 4.1116734], [145, 4.006385], [299, 3.8936892], [383, 3.8871489], [532, 3.8317351]]|\n",
            "|32460  |[[413, 6.424202], [112, 6.134393], [196, 6.046717], [193, 5.600852], [557, 5.4204617], [251, 5.380106], [37, 5.2027035], [518, 5.078722], [296, 4.869106], [164, 4.8618326]]   |\n",
            "|54190  |[[112, 8.87985], [164, 8.342873], [549, 7.6864543], [207, 7.5303936], [413, 7.518273], [106, 7.3892655], [278, 7.3463426], [176, 7.1426754], [243, 7.126375], [598, 7.1216288]]|\n",
            "|471    |[[569, 7.695758], [8, 7.5141716], [174, 7.1325865], [147, 7.0703945], [589, 6.726802], [461, 6.6738043], [77, 6.5591884], [406, 6.522483], [423, 6.40491], [31, 6.340724]]     |\n",
            "|1591   |[[8, 10.681482], [77, 10.476177], [147, 9.12222], [461, 8.9407215], [31, 8.211195], [544, 8.048765], [197, 7.6733923], [344, 7.6462874], [127, 7.5491333], [174, 7.455903]]    |\n",
            "|140541 |[[544, 8.730815], [598, 8.620759], [461, 7.749193], [259, 7.2702703], [458, 6.4883776], [130, 5.983104], [548, 5.8432055], [112, 5.783317], [485, 5.5806713], [423, 5.207381]] |\n",
            "+-------+-------------------------------------------------------------------------------------------------------------------------------------------------------------------------------+\n",
            "only showing top 10 rows\n",
            "\n"
          ],
          "name": "stdout"
        }
      ]
    }
  ]
}