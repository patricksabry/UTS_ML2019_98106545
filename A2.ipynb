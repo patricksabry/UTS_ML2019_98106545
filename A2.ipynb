{
  "nbformat": 4,
  "nbformat_minor": 0,
  "metadata": {
    "colab": {
      "name": "A2.ipynb",
      "provenance": [],
      "include_colab_link": true
    },
    "kernelspec": {
      "name": "python3",
      "display_name": "Python 3"
    }
  },
  "cells": [
    {
      "cell_type": "markdown",
      "metadata": {
        "id": "view-in-github",
        "colab_type": "text"
      },
      "source": [
        "<a href=\"https://colab.research.google.com/github/patricksabry/UTS_ML2019_ID98106545/blob/master/A2.ipynb\" target=\"_parent\"><img src=\"https://colab.research.google.com/assets/colab-badge.svg\" alt=\"Open In Colab\"/></a>"
      ]
    },
    {
      "cell_type": "markdown",
      "metadata": {
        "id": "IdbXy2nbjVlM",
        "colab_type": "text"
      },
      "source": [
        "# Scalable Recommendation System using Spark (PySpark)"
      ]
    },
    {
      "cell_type": "markdown",
      "metadata": {
        "id": "wfny356y0zzP",
        "colab_type": "text"
      },
      "source": [
        "# Introduction\n",
        "\n",
        "In the current age of information recommendation systems are a cornerstone of majority of our online interactions with products and social networks. Hyper consumption of media and consumer products online has seen machine learning powered recommendation systems rise to prominence on platforms such as Amazon, Facebook and Netflix. By leveraging behavioral data and supervised machine learning, internet users are being served tailored, personalised experiences when shopping and consuming online media. The widespread acknowledgment of the utilitarian value-add that recommendation systems provide has led to mercurial advancements in scalable compute frameworks and parallelized machine learning techniques. One of the most notable of these is Spark and Spark MLlib, a fast and scalable unified analytics engine for big data processing and machine learning.\n",
        "\n",
        "The following notebook outlines the implementation of a content based recommendation system using Apache Spark. Spark will be used for scalable parallel memory-based data processing. This will ensure that this algorithm implementation is highly scalable based on how large of a compute cluster it is run on. Spark's ML library will be accessed via PySpark, Spark's high level Python API, and the dataset used for the recommendation system will be the open sourced MovieLens dataset. Movies will be recommended based on collaborative filtering using an Alternate Least Squares algorithm to find similar user ratings for certain movies.\n",
        "\n",
        "$\\hat{r}$ = $\\sum_{f=0}^{n factors}$ $H_{u,f}$$W_{f,i}$\n",
        "\n",
        "Whereby for any item $i$ given by user $u$ the rating of the item can be expressed as a matrix dot ptoduct of the user latent vector $H$ and the item latent vector $W$.\n",
        "\n"
      ]
    },
    {
      "cell_type": "markdown",
      "metadata": {
        "id": "PTOn4q1gjkSz",
        "colab_type": "text"
      },
      "source": [
        "# Social and Ethical Implications of recommendation systems\n",
        "\n",
        "Utilitarian ethics suggests that the actions of an agent or system should be taken in the best interest of happiness and wellbeing. An ethical framework predicated on virtuous value maximization is befittingly adopted when developing this recommendation system. Recommendation systems serve to create value for users of a system by intelligently suggesting items such as products or movies to a user based on the historical interactions of similar users with the system. It is plausible to suggest that the utility afforded by the recommendation system to the users outweighs the privacy concerns of collection and manipulation of behavioral user data.\n",
        "\n",
        "In the context of this particular system, the dataset used for training the model is open sourced for academic use, abolishing concerns of privacy exploitation. When collecting and cleaning behavioral user data I believe it is imperative to clearly communicate the intention of data use with the users and model the data in a meaningful way to mutually benefit the user and the platform in question. This can be communicated through end user license agreements and terms of use, which is evident on platforms such as Amazon and Netflix.\n",
        "\n",
        "Misplaced trust of users in a given platform's privacy policies can have detrimental social and ethical implications. This was highlighted in the Cambridge Analytica Facebook scandal, whereby personal user data was wrongfully collected and used to engineer a politically biased advertisement recommendation campaign which was used to push a political agenda. This misuse of data ultimately resulted in Facebook incurring a $5 billion fine in July 2019.\n",
        "\n",
        "Evidently, intentionally malicious misuse of user data in building a recommendation system such as in this project should be avoided at all costs."
      ]
    },
    {
      "cell_type": "markdown",
      "metadata": {
        "id": "w9bOh0fE1xF8",
        "colab_type": "text"
      },
      "source": [
        "# Data Exploration and Pre-processing\n",
        "\n",
        "This ALS algorithm implementation will leverage the distributed processing power of spark through the use of Resilient Distributed Datasets (RDD). The Apache foundation defines an RDD as an immutable distributed collection of objects. Each dataset is divided into logical partitions, which may be computed on different nodes of the cluster. This implementation is highly scalable and boasts data read speeds of up to 100x faster than Hadoop MapReduce.\n",
        "\n",
        "In order to pre-process the MovieLens data it must first be imported and transformed into a spark dataframe. The dataset is comprised of two independent files 'movies.csv' and 'ratings.csv' which are hosted on this project's GitHub repository.\n",
        "\n"
      ]
    },
    {
      "cell_type": "code",
      "metadata": {
        "id": "90C_MDSQJCYe",
        "colab_type": "code",
        "outputId": "215ab9f2-a2f5-4bdd-e7bd-ea9145239b1a",
        "colab": {
          "base_uri": "https://localhost:8080/",
          "height": 340
        }
      },
      "source": [
        "import pandas as pd\n",
        "pd.set_option('display.max_columns', None)  \n",
        "\n",
        "movies_url = 'https://raw.githubusercontent.com/patricksabry/UTS_ML2019_ID98106545/master/movies.csv'\n",
        "ratings_url = 'https://raw.githubusercontent.com/patricksabry/UTS_ML2019_ID98106545/master/ratings.csv'\n",
        "df_movies = pd.read_csv(movies_url)\n",
        "df_ratings = pd.read_csv(ratings_url)\n",
        "\n",
        "print(df_movies.head())\n",
        "print(df_ratings.head())"
      ],
      "execution_count": 138,
      "outputs": [
        {
          "output_type": "stream",
          "text": [
            "   movieId                               title  \\\n",
            "0        1                    Toy Story (1995)   \n",
            "1        2                      Jumanji (1995)   \n",
            "2        3             Grumpier Old Men (1995)   \n",
            "3        4            Waiting to Exhale (1995)   \n",
            "4        5  Father of the Bride Part II (1995)   \n",
            "\n",
            "                                        genres  \n",
            "0  Adventure|Animation|Children|Comedy|Fantasy  \n",
            "1                   Adventure|Children|Fantasy  \n",
            "2                               Comedy|Romance  \n",
            "3                         Comedy|Drama|Romance  \n",
            "4                                       Comedy  \n",
            "   userId  movieId  rating  timestamp\n",
            "0       1        1     4.0  964982703\n",
            "1       1        3     4.0  964981247\n",
            "2       1        6     4.0  964982224\n",
            "3       1       47     5.0  964983815\n",
            "4       1       50     5.0  964982931\n"
          ],
          "name": "stdout"
        }
      ]
    },
    {
      "cell_type": "markdown",
      "metadata": {
        "id": "lPwUNUHpCZwy",
        "colab_type": "text"
      },
      "source": [
        "The movies and ratings dataframes must be represented as an RDD of triplets in the following format:\n",
        "\n",
        "Ratings : RDD(($u$, $i$, $r_{ui}$), . . .)\n",
        "\n",
        "With each row consisting of a rating $r_{ui}$ given to item $i$ by user $u$\n"
      ]
    },
    {
      "cell_type": "code",
      "metadata": {
        "id": "K3vDFKIMMYnd",
        "colab_type": "code",
        "outputId": "1e4c93e9-57b0-492f-8e57-6a1055442c84",
        "colab": {
          "base_uri": "https://localhost:8080/",
          "height": 255
        }
      },
      "source": [
        "df = pd.merge(df_ratings, df_movies, on='movieId')\n",
        "print(df.head())\n",
        "df.shape\n"
      ],
      "execution_count": 139,
      "outputs": [
        {
          "output_type": "stream",
          "text": [
            "   userId  movieId  rating   timestamp             title  \\\n",
            "0       1        1     4.0   964982703  Toy Story (1995)   \n",
            "1       5        1     4.0   847434962  Toy Story (1995)   \n",
            "2       7        1     4.5  1106635946  Toy Story (1995)   \n",
            "3      15        1     2.5  1510577970  Toy Story (1995)   \n",
            "4      17        1     4.5  1305696483  Toy Story (1995)   \n",
            "\n",
            "                                        genres  \n",
            "0  Adventure|Animation|Children|Comedy|Fantasy  \n",
            "1  Adventure|Animation|Children|Comedy|Fantasy  \n",
            "2  Adventure|Animation|Children|Comedy|Fantasy  \n",
            "3  Adventure|Animation|Children|Comedy|Fantasy  \n",
            "4  Adventure|Animation|Children|Comedy|Fantasy  \n"
          ],
          "name": "stdout"
        },
        {
          "output_type": "execute_result",
          "data": {
            "text/plain": [
              "(100836, 6)"
            ]
          },
          "metadata": {
            "tags": []
          },
          "execution_count": 139
        }
      ]
    },
    {
      "cell_type": "code",
      "metadata": {
        "id": "blrulWg4NvNC",
        "colab_type": "code",
        "outputId": "33420f97-747b-4606-8b0b-c988b54bb9ff",
        "colab": {
          "base_uri": "https://localhost:8080/",
          "height": 34
        }
      },
      "source": [
        "num_ratings = df.rating.count()\n",
        "num_movies = df['movieId'].nunique()\n",
        "num_users = df['userId'].nunique()\n",
        "\n",
        "print(\"Observed \" + str(num_ratings) + \" ratings from \" + str(num_users) + \" users on \" + str(num_movies) + \" movies\")"
      ],
      "execution_count": 140,
      "outputs": [
        {
          "output_type": "stream",
          "text": [
            "Observed 100836 ratings from 610 users on 9724 movies\n"
          ],
          "name": "stdout"
        }
      ]
    },
    {
      "cell_type": "code",
      "metadata": {
        "id": "VM1FTEjqRAIb",
        "colab_type": "code",
        "outputId": "4b043e67-d5d4-499a-a46b-f783da8d730d",
        "colab": {
          "base_uri": "https://localhost:8080/",
          "height": 281
        }
      },
      "source": [
        "import matplotlib.pyplot as plt\n",
        "import seaborn as sns\n",
        "\n",
        "x = df['rating'].values\n",
        "sns.distplot(x)\n",
        "plt.title(\"Distribution of user ratings on 100k MovieLens dataset\")\n",
        "plt.show()"
      ],
      "execution_count": 141,
      "outputs": [
        {
          "output_type": "display_data",
          "data": {
            "image/png": "[encoded data removed]",
            "text/plain": [
              "<Figure size 432x288 with 1 Axes>"
            ]
          },
          "metadata": {
            "tags": []
          }
        }
      ]
    },
    {
      "cell_type": "markdown",
      "metadata": {
        "id": "0s4qobgK5aiH",
        "colab_type": "text"
      },
      "source": [
        "## Downloading Spark dependencies & initializing enviornment\n"
      ]
    },
    {
      "cell_type": "code",
      "metadata": {
        "id": "3YJQG-6uy2sc",
        "colab_type": "code",
        "colab": {}
      },
      "source": [
        "!apt-get install openjdk-8-jdk-headless -qq > /dev/null\n",
        "!wget -q https://www-us.apache.org/dist/spark/spark-2.3.4/spark-2.3.4-bin-hadoop2.7.tgz\n",
        "!tar xf spark-2.3.4-bin-hadoop2.7.tgz\n",
        "!pip install -q findspark"
      ],
      "execution_count": 0,
      "outputs": []
    },
    {
      "cell_type": "code",
      "metadata": {
        "id": "thDdgQ2B0dy_",
        "colab_type": "code",
        "colab": {}
      },
      "source": [
        "# Set java sdk and Spark enviornment paths\n",
        "import os\n",
        "os.environ[\"JAVA_HOME\"] = \"/usr/lib/jvm/java-8-openjdk-amd64\"\n",
        "os.environ[\"SPARK_HOME\"] = \"/content/spark-2.3.4-bin-hadoop2.7\"\n",
        "\n",
        "# Use PySpark to intialise spark session\n",
        "import findspark\n",
        "findspark.init()\n",
        "from pyspark.sql import SparkSession\n",
        "sc = SparkSession.builder.master(\"local[*]\").getOrCreate()"
      ],
      "execution_count": 0,
      "outputs": []
    },
    {
      "cell_type": "markdown",
      "metadata": {
        "id": "FwqS8e-Dk8A4",
        "colab_type": "text"
      },
      "source": [
        "# Implementation Methodology\n",
        "\n",
        "The system will strive to learn latent factors by minimising an error measure in respect to an Alternate Least Squares algorithm which will be fitted on the pre-processed data."
      ]
    },
    {
      "cell_type": "code",
      "metadata": {
        "id": "WgM-TKuyYLSb",
        "colab_type": "code",
        "outputId": "9786ff1a-e1f4-4d6e-dfa4-88653db71c86",
        "colab": {
          "base_uri": "https://localhost:8080/",
          "height": 799
        }
      },
      "source": [
        "from pyspark.ml.recommendation import ALS\n",
        "from pyspark.sql.types import FloatType\n",
        "from pyspark.ml.evaluation import RegressionEvaluator\n",
        "from pyspark.sql.functions import col\n",
        "from pyspark.sql import SQLContext\n",
        "\n",
        "# Convert Pandas dataframe to Spark RDD based dataframe\n",
        "spark_df = sc.createDataFrame(df)\n",
        "spark_df_movies = sc.createDataFrame(df_movies)\n",
        "\n",
        "# Split the input data into train, validation and test datasets \n",
        "X_train, X_val = spark_df.randomSplit([0.7,0.3])\n",
        "\n",
        "# Define gridsearch parameters to apply to the ALS model\n",
        "# Note: As this application of ALS is explicit, the alpha parameter is ignored\n",
        "maxIters = [5,8,10]\n",
        "ranks = [4,6,8,10,12]\n",
        "regularization_vals = [0.01,0.1,1]\n",
        "\n",
        "best_iteration = -1\n",
        "best_rank = -1\n",
        "best_reg_val = -1\n",
        "min_error = float('inf')\n",
        "\n",
        "# Fit ALS model on all possible combinations of parameters to determine optimal parameters\n",
        "start = time.time()\n",
        "for maxIter in maxIters:\n",
        "    for rank in ranks:\n",
        "        for regVal in regularization_vals:\n",
        "            als = ALS(maxIter=maxIter, regParam=regVal, rank=rank, userCol=\"userId\", \n",
        "                      itemCol=\"movieId\", ratingCol=\"rating\", coldStartStrategy=\"drop\" )\n",
        "            model = als.fit(X_train)\n",
        "            # Evaluate the model by computing the RMSE on the validation data\n",
        "            predictions = model.transform(X_val)\n",
        "            evaluator = RegressionEvaluator(metricName=\"rmse\", labelCol=\"rating\",\n",
        "                                            predictionCol=\"prediction\")\n",
        "            rmse = evaluator.evaluate(predictions)            \n",
        "            if rmse < min_error:\n",
        "                min_error = rmse\n",
        "                best_iteration = maxIter\n",
        "                best_rank = rank\n",
        "                best_reg_val = regVal\n",
        "end = time.time()\n",
        "gridsearch_time = (end - start)\n",
        "\n",
        "print(\"Best model achieved an RMSE of \" + str(round(min_error,4)) + \" with parameters [\" + \"maxIter: \" + str(best_iteration) + \" ranks: \" + str(best_rank) + \" regParam: \" + str(best_reg_val) + \"]\")\n",
        "print(\"Gridsearching \" + str(len(maxIters)*len(ranks)*len(regularization_vals)) + \" possible param combinations took \" + str(gridsearch_time) + \"seconds\")            \n",
        "            \n",
        "                 \n",
        "            \n",
        "# # Build the recommendation model using distributed ALS on the training data\n",
        "# als = ALS(maxIter=5, regParam=0.01, userCol=\"userId\", itemCol=\"movieId\", ratingCol=\"rating\", coldStartStrategy=\"drop\")\n",
        "# model = als.fit(X_train)\n",
        "\n",
        "# # Evaluate the model by computing the RMSE on the validation data\n",
        "# predictions = model.transform(X_test)\n",
        "# evaluator = RegressionEvaluator(metricName=\"rmse\", labelCol=\"rating\",\n",
        "#                                 predictionCol=\"prediction\")\n",
        "# rmse = evaluator.evaluate(predictions)\n",
        "# print(\"RMSE = \" + str(rmse))\n",
        "\n",
        "# Generate top 10 movie recommendations for each user\n",
        "userRecs = model.recommendForAllUsers(10)\n",
        "# Generate top 10 user recommendations for each movie\n",
        "movieRecs = model.recommendForAllItems(10)\n",
        "\n",
        "# userRecs.show(10,False)\n",
        "# movieRecs.show(10,False)\n",
        "\n",
        "# sc.stop()"
      ],
      "execution_count": 148,
      "outputs": [
        {
          "output_type": "stream",
          "text": [
            "RMSE = 0.9975280548531182 for parameters: maxIter: 5 ranks: 4 regParam: 0.01\n",
            "RMSE = 0.893641034113227 for parameters: maxIter: 5 ranks: 4 regParam: 0.1\n",
            "RMSE = 1.3280745555255142 for parameters: maxIter: 5 ranks: 4 regParam: 1\n",
            "RMSE = 1.0703546186461521 for parameters: maxIter: 5 ranks: 6 regParam: 0.01\n",
            "RMSE = 0.897001427400056 for parameters: maxIter: 5 ranks: 6 regParam: 0.1\n",
            "RMSE = 1.327039275644191 for parameters: maxIter: 5 ranks: 6 regParam: 1\n",
            "RMSE = 1.0969778458762252 for parameters: maxIter: 5 ranks: 8 regParam: 0.01\n",
            "RMSE = 0.8960538047803065 for parameters: maxIter: 5 ranks: 8 regParam: 0.1\n",
            "RMSE = 1.3262906039398683 for parameters: maxIter: 5 ranks: 8 regParam: 1\n",
            "RMSE = 1.1229126632245277 for parameters: maxIter: 5 ranks: 10 regParam: 0.01\n",
            "RMSE = 0.8964015771115765 for parameters: maxIter: 5 ranks: 10 regParam: 0.1\n",
            "RMSE = 1.326160172491666 for parameters: maxIter: 5 ranks: 10 regParam: 1\n",
            "RMSE = 1.1706588105234472 for parameters: maxIter: 5 ranks: 12 regParam: 0.01\n",
            "RMSE = 0.8955002541131386 for parameters: maxIter: 5 ranks: 12 regParam: 0.1\n",
            "RMSE = 1.325681885129238 for parameters: maxIter: 5 ranks: 12 regParam: 1\n",
            "RMSE = 1.0138427383291246 for parameters: maxIter: 8 ranks: 4 regParam: 0.01\n",
            "RMSE = 0.8901022997343462 for parameters: maxIter: 8 ranks: 4 regParam: 0.1\n",
            "RMSE = 1.3256611238536777 for parameters: maxIter: 8 ranks: 4 regParam: 1\n",
            "RMSE = 1.085296121026494 for parameters: maxIter: 8 ranks: 6 regParam: 0.01\n",
            "RMSE = 0.891814566253428 for parameters: maxIter: 8 ranks: 6 regParam: 0.1\n",
            "RMSE = 1.3256188837289438 for parameters: maxIter: 8 ranks: 6 regParam: 1\n",
            "RMSE = 1.1115050008303091 for parameters: maxIter: 8 ranks: 8 regParam: 0.01\n",
            "RMSE = 0.8946496022154168 for parameters: maxIter: 8 ranks: 8 regParam: 0.1\n",
            "RMSE = 1.3255985389907399 for parameters: maxIter: 8 ranks: 8 regParam: 1\n",
            "RMSE = 1.1469746044439912 for parameters: maxIter: 8 ranks: 10 regParam: 0.01\n",
            "RMSE = 0.8937511502282286 for parameters: maxIter: 8 ranks: 10 regParam: 0.1\n",
            "RMSE = 1.3256038985006109 for parameters: maxIter: 8 ranks: 10 regParam: 1\n",
            "RMSE = 1.184767914687562 for parameters: maxIter: 8 ranks: 12 regParam: 0.01\n",
            "RMSE = 0.893529560848722 for parameters: maxIter: 8 ranks: 12 regParam: 0.1\n",
            "RMSE = 1.3255884014948334 for parameters: maxIter: 8 ranks: 12 regParam: 1\n",
            "RMSE = 1.0244943792449444 for parameters: maxIter: 10 ranks: 4 regParam: 0.01\n",
            "RMSE = 0.8890787023051034 for parameters: maxIter: 10 ranks: 4 regParam: 0.1\n",
            "RMSE = 1.3255983416807966 for parameters: maxIter: 10 ranks: 4 regParam: 1\n",
            "RMSE = 1.091969697904681 for parameters: maxIter: 10 ranks: 6 regParam: 0.01\n",
            "RMSE = 0.8899478553065683 for parameters: maxIter: 10 ranks: 6 regParam: 0.1\n",
            "RMSE = 1.3255873541521987 for parameters: maxIter: 10 ranks: 6 regParam: 1\n",
            "RMSE = 1.1233741705676126 for parameters: maxIter: 10 ranks: 8 regParam: 0.01\n",
            "RMSE = 0.8939257771045859 for parameters: maxIter: 10 ranks: 8 regParam: 0.1\n",
            "RMSE = 1.3255817587347736 for parameters: maxIter: 10 ranks: 8 regParam: 1\n",
            "RMSE = 1.1592060808940912 for parameters: maxIter: 10 ranks: 10 regParam: 0.01\n",
            "RMSE = 0.8921723295856986 for parameters: maxIter: 10 ranks: 10 regParam: 0.1\n",
            "RMSE = 1.3255841193997377 for parameters: maxIter: 10 ranks: 10 regParam: 1\n",
            "RMSE = 1.1949196482142566 for parameters: maxIter: 10 ranks: 12 regParam: 0.01\n",
            "RMSE = 0.892773840965331 for parameters: maxIter: 10 ranks: 12 regParam: 0.1\n",
            "RMSE = 1.3255794296690617 for parameters: maxIter: 10 ranks: 12 regParam: 1\n",
            "Best model achieved an RMSE of 1.3255794296690617 with parameters: maxIter: 10 ranks: 4 regParam: 0.1\n"
          ],
          "name": "stdout"
        }
      ]
    },
    {
      "cell_type": "code",
      "metadata": {
        "id": "-Y3LSoa2dH3z",
        "colab_type": "code",
        "colab": {
          "base_uri": "https://localhost:8080/",
          "height": 221
        },
        "outputId": "956134ac-0db3-42e6-b490-0a1ab0d1839c"
      },
      "source": [
        "# Take user ID as input, and return top 10 0recommended movie titles for that user\n",
        "def generate_user_recommendations(model, user_id):\n",
        "    user_id_string = (\"%s\" % str(user_id))\n",
        "    \n",
        "    # Generate top 10 movie recommendations for each user\n",
        "    userRecs = model.recommendForAllUsers(10)\n",
        "   \n",
        "    userIds = {}\n",
        "    titles = []\n",
        "    query_ids = []\n",
        "    for row in userRecs.rdd.collect():\n",
        "        if row['userId'] == user_id:\n",
        "            for rec in row['recommendations']:\n",
        "                titles.append((rec['movieId'], round(rec['rating'],2)))\n",
        "                query_ids.append((\"%s\" % rec['movieId']))\n",
        "            \n",
        "            userIds[str(row['userId'])] = titles\n",
        "    \n",
        "    # Get movie titles for the recommended movieIds\n",
        "    movie_titles = spark_df_movies \\\n",
        "       .filter(col('movieId').isin(query_ids)) \\\n",
        "       .select('title') \\\n",
        "       .rdd.map(lambda r: r[0]) \\\n",
        "       .collect()\n",
        "\n",
        "\n",
        "    print(\"Recommend the following movies to User ID \" + str(user_id) + \": \\n\")\n",
        "\n",
        "    for key, value in userIds.items():\n",
        "        for pair in value:\n",
        "            print(\"Movie ID: \" + str(pair[0]) + \", \" + \"Rating: \" + str(pair[1]))\n",
        "    \n",
        "        \n",
        "generate_user_recommendations(model, 147)"
      ],
      "execution_count": 145,
      "outputs": [
        {
          "output_type": "stream",
          "text": [
            "Recommend the following movies to User ID 147: \n",
            "\n",
            "Movie ID: 2340, Rating: 11.26\n",
            "Movie ID: 3925, Rating: 11.21\n",
            "Movie ID: 188, Rating: 10.96\n",
            "Movie ID: 103372, Rating: 10.84\n",
            "Movie ID: 1274, Rating: 10.71\n",
            "Movie ID: 1031, Rating: 10.53\n",
            "Movie ID: 104218, Rating: 10.47\n",
            "Movie ID: 4676, Rating: 10.31\n",
            "Movie ID: 3483, Rating: 10.17\n",
            "Movie ID: 169984, Rating: 10.17\n"
          ],
          "name": "stdout"
        }
      ]
    },
    {
      "cell_type": "code",
      "metadata": {
        "id": "Kvlf533DdipD",
        "colab_type": "code",
        "colab": {
          "base_uri": "https://localhost:8080/",
          "height": 221
        },
        "outputId": "ba34ed9a-0a15-457a-aa9c-b76c5062d319"
      },
      "source": [
        "# Take movie ID as input, and return top 10 recommended users for that movie\n",
        "def generate_movie_recommendations(model, movie_id):\n",
        "    \n",
        "    movie_id_string = (\"%s\" % str(movie_id))\n",
        "\n",
        "    # Get movie title for movie id input\n",
        "    movie_title = spark_df_movies \\\n",
        "   .filter(col('movieId').isin(movie_id_string)) \\\n",
        "   .select('title') \\\n",
        "   .rdd.map(lambda r: r[0]) \\\n",
        "   .collect()\n",
        "    \n",
        "    # Generate top 10 user recommendations for each movie\n",
        "    movieRecs = model.recommendForAllItems(10)\n",
        "    movieIds = {}\n",
        "\n",
        "    for row in movieRecs.rdd.collect():\n",
        "        users = []\n",
        "        if row['movieId'] == movie_id:\n",
        "            for rec in row['recommendations']:\n",
        "                users.append((rec['userId'], round(rec['rating'],2)))\n",
        "            movieIds[str(row['movieId'])] = users\n",
        "            break\n",
        "    \n",
        "    print(\"Recommend \" + \"'\" + str(movie_title[0]) + \"'\" + \" to the following users: \\n\")\n",
        "    for key, value in movieIds.items():\n",
        "        for pair in value:\n",
        "            print(\"User ID: \" + str(pair[0]) + \", \" + \"Rating: \" + str(pair[1]))\n",
        "\n",
        "generate_movie_recommendations(model, 12)"
      ],
      "execution_count": 146,
      "outputs": [
        {
          "output_type": "stream",
          "text": [
            "Recommend 'Dracula: Dead and Loving It (1995)' to the following users: \n",
            "\n",
            "User ID: 71, Rating: 10.48\n",
            "User ID: 259, Rating: 8.73\n",
            "User ID: 598, Rating: 8.59\n",
            "User ID: 485, Rating: 7.74\n",
            "User ID: 114, Rating: 7.48\n",
            "User ID: 327, Rating: 7.07\n",
            "User ID: 501, Rating: 7.04\n",
            "User ID: 569, Rating: 7.03\n",
            "User ID: 291, Rating: 6.63\n",
            "User ID: 264, Rating: 6.54\n"
          ],
          "name": "stdout"
        }
      ]
    },
    {
      "cell_type": "markdown",
      "metadata": {
        "id": "IA6hTgMxkFmA",
        "colab_type": "text"
      },
      "source": [
        "# Evaluation\n",
        "\n",
        "\n",
        "## Time and space complexity\n",
        "\n",
        "## Efficiency and scalability\n",
        "\n",
        "## Comparison to different recommendation system algorithm"
      ]
    },
    {
      "cell_type": "markdown",
      "metadata": {
        "id": "COL7RORIkCjA",
        "colab_type": "text"
      },
      "source": [
        "# Conclusion"
      ]
    },
    {
      "cell_type": "markdown",
      "metadata": {
        "id": "bi17lEHclzYf",
        "colab_type": "text"
      },
      "source": [
        "# References \n",
        "\n",
        "http://stanford.edu/~rezab/classes/cme323/S15/notes/lec14.pdf\n",
        "\n",
        "https://en.wikipedia.org/wiki/Facebook%E2%80%93Cambridge_Analytica_data_scandal#Use_of_the_data\n",
        "\n",
        "https://www.tutorialspoint.com/apache_spark/apache_spark_rdd.htm\n",
        "\n",
        "\n",
        "https://spark.apache.org/docs/latest/api/python/pyspark.mllib.html#module-pyspark.mllib.recommendation"
      ]
    }
  ]
}