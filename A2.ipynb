{
  "nbformat": 4,
  "nbformat_minor": 0,
  "metadata": {
    "colab": {
      "name": "A2.ipynb",
      "provenance": [],
      "include_colab_link": true
    },
    "kernelspec": {
      "name": "python3",
      "display_name": "Python 3"
    }
  },
  "cells": [
    {
      "cell_type": "markdown",
      "metadata": {
        "id": "view-in-github",
        "colab_type": "text"
      },
      "source": [
        "<a href=\"https://colab.research.google.com/github/patricksabry/UTS_ML2019_ID98106545/blob/master/A2.ipynb\" target=\"_parent\"><img src=\"https://colab.research.google.com/assets/colab-badge.svg\" alt=\"Open In Colab\"/></a>"
      ]
    },
    {
      "cell_type": "markdown",
      "metadata": {
        "id": "wfny356y0zzP",
        "colab_type": "text"
      },
      "source": [
        "# Scalable Recommendation System using Spark (PySpark)\n",
        "\n",
        "The following notebook outlines the implementation of a content based recommendation system using Apache Spark. Spark will be used for scalable parallel memory-based data processing. This will ensure that this algorithm implementation is highly scalable based on how large of a compute cluster it is run on. Spark's ML library will be accessed via PySpark, Spark's high level Python API.\n",
        "\n",
        "The dataset used for the recommendation system will be the open sourced MovieLens dataset. Movies will be recommended based on collaborative filtering using an Alternate Least Squares algorithm to find similar user ratings for certain movies.\n",
        "\n",
        "$\\hat{r}$ = $\\sum_{f=0}^{n factors}$ $H_{u,f}$$W_{f,i}$\n",
        "\n",
        "Whereby for any item $i$ given by user $u$ the rating of the item can be expressed as a matrix dot ptoduct of the user latent vector $H$ and the item latent vector $W$."
      ]
    },
    {
      "cell_type": "markdown",
      "metadata": {
        "id": "w9bOh0fE1xF8",
        "colab_type": "text"
      },
      "source": [
        "## Loading the dataset & exploration\n",
        "\n"
      ]
    },
    {
      "cell_type": "code",
      "metadata": {
        "id": "90C_MDSQJCYe",
        "colab_type": "code",
        "colab": {
          "base_uri": "https://localhost:8080/",
          "height": 255
        },
        "outputId": "fd58e08a-2185-4614-c53b-d3c218bbc842"
      },
      "source": [
        "from google.colab import files\n",
        "import io\n",
        "import pandas as pd\n",
        "\n",
        "movies_url = 'https://raw.githubusercontent.com/patricksabry/UTS_ML2019_ID98106545/master/movies.csv'\n",
        "ratings_url = 'https://raw.githubusercontent.com/patricksabry/UTS_ML2019_ID98106545/master/ratings.csv'\n",
        "df_movies = pd.read_csv(movies_url)\n",
        "df_ratings = pd.read_csv(ratings_url)\n",
        "\n",
        "print(df_movies.head())\n",
        "print(df_ratings.head())"
      ],
      "execution_count": 2,
      "outputs": [
        {
          "output_type": "stream",
          "text": [
            "   movieId  ...                                       genres\n",
            "0        1  ...  Adventure|Animation|Children|Comedy|Fantasy\n",
            "1        2  ...                   Adventure|Children|Fantasy\n",
            "2        3  ...                               Comedy|Romance\n",
            "3        4  ...                         Comedy|Drama|Romance\n",
            "4        5  ...                                       Comedy\n",
            "\n",
            "[5 rows x 3 columns]\n",
            "   userId  movieId  rating  timestamp\n",
            "0       1        1     4.0  964982703\n",
            "1       1        3     4.0  964981247\n",
            "2       1        6     4.0  964982224\n",
            "3       1       47     5.0  964983815\n",
            "4       1       50     5.0  964982931\n"
          ],
          "name": "stdout"
        }
      ]
    },
    {
      "cell_type": "code",
      "metadata": {
        "id": "K3vDFKIMMYnd",
        "colab_type": "code",
        "colab": {
          "base_uri": "https://localhost:8080/",
          "height": 170
        },
        "outputId": "a7cae645-27e6-4c96-f67e-735db37b5b19"
      },
      "source": [
        "df = pd.merge(df_ratings, df_movies, on='movieId')\n",
        "print(df.head())\n",
        "df.shape\n",
        "\n",
        "# df = df.pivot(index=\"userId\", columns=\"movieId\")\n",
        "# print(df.head())"
      ],
      "execution_count": 3,
      "outputs": [
        {
          "output_type": "stream",
          "text": [
            "   userId  ...                                       genres\n",
            "0       1  ...  Adventure|Animation|Children|Comedy|Fantasy\n",
            "1       5  ...  Adventure|Animation|Children|Comedy|Fantasy\n",
            "2       7  ...  Adventure|Animation|Children|Comedy|Fantasy\n",
            "3      15  ...  Adventure|Animation|Children|Comedy|Fantasy\n",
            "4      17  ...  Adventure|Animation|Children|Comedy|Fantasy\n",
            "\n",
            "[5 rows x 6 columns]\n"
          ],
          "name": "stdout"
        },
        {
          "output_type": "execute_result",
          "data": {
            "text/plain": [
              "(100836, 6)"
            ]
          },
          "metadata": {
            "tags": []
          },
          "execution_count": 3
        }
      ]
    },
    {
      "cell_type": "code",
      "metadata": {
        "id": "blrulWg4NvNC",
        "colab_type": "code",
        "colab": {
          "base_uri": "https://localhost:8080/",
          "height": 34
        },
        "outputId": "546bbd41-baf2-483d-c5ec-851357720c1d"
      },
      "source": [
        "num_ratings = df.rating.count()\n",
        "num_movies = df['movieId'].nunique()\n",
        "num_users = df['userId'].nunique()\n",
        "\n",
        "print(\"Observed \" + str(num_ratings) + \" ratings from \" + str(num_users) + \" users on \" + str(num_movies) + \" movies\")"
      ],
      "execution_count": 4,
      "outputs": [
        {
          "output_type": "stream",
          "text": [
            "Observed 100836 ratings from 610 users on 9724 movies\n"
          ],
          "name": "stdout"
        }
      ]
    },
    {
      "cell_type": "code",
      "metadata": {
        "id": "VM1FTEjqRAIb",
        "colab_type": "code",
        "colab": {
          "base_uri": "https://localhost:8080/",
          "height": 269
        },
        "outputId": "52368237-a118-4468-bd82-36fcf15c6c1f"
      },
      "source": [
        "import matplotlib.pyplot as plt\n",
        "import seaborn as sns\n",
        "\n",
        "x = df['rating'].values\n",
        "sns.distplot(x)\n",
        "plt.show()"
      ],
      "execution_count": 5,
      "outputs": [
        {
          "output_type": "display_data",
          "data": {
            "image/png": "[encoded data removed]",
            "text/plain": [
              "<Figure size 432x288 with 1 Axes>"
            ]
          },
          "metadata": {
            "tags": []
          }
        }
      ]
    },
    {
      "cell_type": "markdown",
      "metadata": {
        "id": "ZxEPCMxDR0RR",
        "colab_type": "text"
      },
      "source": [
        "## function to compute RMSE for ALS algorithm\n",
        "\n",
        "RMSE will be used as an error measure between predictions and base truth ratings. The aim of the ALS algorithm is to minimise the RMSE between the val/test datasets."
      ]
    },
    {
      "cell_type": "code",
      "metadata": {
        "id": "jAbwfvvCSjWt",
        "colab_type": "code",
        "colab": {}
      },
      "source": [
        "def compute_rmse(predictions, targets):\n",
        "    return np.sqrt(((predictions - targets) ** 2).mean())"
      ],
      "execution_count": 0,
      "outputs": []
    },
    {
      "cell_type": "markdown",
      "metadata": {
        "id": "4IjMIzvjYMIA",
        "colab_type": "text"
      },
      "source": [
        "## Train / Val / Test split"
      ]
    },
    {
      "cell_type": "markdown",
      "metadata": {
        "id": "0s4qobgK5aiH",
        "colab_type": "text"
      },
      "source": [
        "## Downloading Spark dependencies & initializing enviornment\n"
      ]
    },
    {
      "cell_type": "code",
      "metadata": {
        "id": "3YJQG-6uy2sc",
        "colab_type": "code",
        "colab": {}
      },
      "source": [
        "!apt-get install openjdk-8-jdk-headless -qq > /dev/null\n",
        "!wget -q https://www-us.apache.org/dist/spark/spark-2.3.4/spark-2.3.4-bin-hadoop2.7.tgz\n",
        "!tar xf spark-2.3.4-bin-hadoop2.7.tgz\n",
        "!pip install -q findspark"
      ],
      "execution_count": 0,
      "outputs": []
    },
    {
      "cell_type": "code",
      "metadata": {
        "id": "thDdgQ2B0dy_",
        "colab_type": "code",
        "colab": {}
      },
      "source": [
        "import os\n",
        "os.environ[\"JAVA_HOME\"] = \"/usr/lib/jvm/java-8-openjdk-amd64\"\n",
        "os.environ[\"SPARK_HOME\"] = \"/content/spark-2.3.4-bin-hadoop2.7\""
      ],
      "execution_count": 0,
      "outputs": []
    },
    {
      "cell_type": "code",
      "metadata": {
        "id": "XquY2IkQzUWM",
        "colab_type": "code",
        "colab": {}
      },
      "source": [
        "import findspark\n",
        "findspark.init()\n",
        "from pyspark.sql import SparkSession\n",
        "sc = SparkSession.builder.master(\"local[*]\").getOrCreate()"
      ],
      "execution_count": 0,
      "outputs": []
    },
    {
      "cell_type": "code",
      "metadata": {
        "id": "CVdDL0qecBiC",
        "colab_type": "code",
        "colab": {}
      },
      "source": [
        "from pyspark.mllib.recommendation import ALS, MatrixFactorizationModel, Rating\n",
        "from pyspark.sql.types import FloatType\n",
        "from pyspark.ml.evaluation import RegressionEvaluator\n",
        "from pyspark.sql.functions import col\n",
        "from pyspark.sql import SQLContext"
      ],
      "execution_count": 0,
      "outputs": []
    },
    {
      "cell_type": "code",
      "metadata": {
        "id": "WgM-TKuyYLSb",
        "colab_type": "code",
        "colab": {
          "base_uri": "https://localhost:8080/",
          "height": 204
        },
        "outputId": "7a753be6-6e84-4b2f-d3f6-f37e298c4075"
      },
      "source": [
        "from pyspark.ml.recommendation import ALS\n",
        "spark_df = sc.createDataFrame(df)\n",
        "spark_df_movies = sc.createDataFrame(df_movies)\n",
        "# spark_df.show(n=5)\n",
        "\n",
        "X_train, X_test = spark_df.randomSplit([0.7,0.3])\n",
        "\n",
        "# Build the recommendation model using ALS on the training data\n",
        "als = ALS(maxIter=5, regParam=0.01, userCol=\"userId\", itemCol=\"movieId\", ratingCol=\"rating\", coldStartStrategy=\"drop\")\n",
        "model = als.fit(X_train)\n",
        "\n",
        "# Evaluate the model by computing the RMSE on the test data\n",
        "predictions = model.transform(X_test)\n",
        "evaluator = RegressionEvaluator(metricName=\"rmse\", labelCol=\"rating\",\n",
        "                                predictionCol=\"prediction\")\n",
        "rmse = evaluator.evaluate(predictions)\n",
        "print(\"Root-mean-square error = \" + str(rmse))\n",
        "\n",
        "# Generate top 10 movie recommendations for each user\n",
        "userRecs = model.recommendForAllUsers(10)\n",
        "# Generate top 10 user recommendations for each movie\n",
        "movieRecs = model.recommendForAllItems(10)\n",
        "# userRecs.show(10,False)\n",
        "# movieRecs.show(10,False)\n",
        "userIds = {}\n",
        "\n",
        "\n",
        "for row in userRecs.rdd.collect():\n",
        "    titles = []\n",
        "    for rec in row['recommendations']:\n",
        "        titles.append(rec['movieId'])\n",
        "#         print(rec)\n",
        "    userIds[str(row['userId'])] = titles\n",
        "    break\n",
        "    \n",
        "\n",
        "\n",
        "# take user ID as input, and return recommended titles for that user\n",
        "\n",
        "#get movie IDs for this particular user - e.g. user ID 471\n",
        "    \n",
        "movie_titles = spark_df_movies \\\n",
        "   .filter(col('movieId').isin(userIds[\"471\"])) \\\n",
        "   .select('title') \\\n",
        "   .rdd.map(lambda r: r[0]) \\\n",
        "   .collect()\n",
        "\n",
        "for title in movie_titles:\n",
        "    print(\"Recommended: \" + title)\n",
        "# sc.stop()"
      ],
      "execution_count": 34,
      "outputs": [
        {
          "output_type": "stream",
          "text": [
            "Root-mean-square error = 1.1218873810093684\n",
            "Recommended: Gone with the Wind (1939)\n",
            "Recommended: Gigi (1958)\n",
            "Recommended: Meet Joe Black (1998)\n",
            "Recommended: Simply Irresistible (1999)\n",
            "Recommended: Teenage Mutant Ninja Turtles (1990)\n",
            "Recommended: Kwaidan (Kaidan) (1964)\n",
            "Recommended: Sisterhood of the Traveling Pants, The (2005)\n",
            "Recommended: Hostel (2005)\n",
            "Recommended: Man on Wire (2008)\n",
            "Recommended: Karate Kid, The (2010)\n"
          ],
          "name": "stdout"
        }
      ]
    }
  ]
}