{
  "nbformat": 4,
  "nbformat_minor": 0,
  "metadata": {
    "colab": {
      "name": "A3.ipynb",
      "provenance": [],
      "include_colab_link": true
    },
    "kernelspec": {
      "name": "python3",
      "display_name": "Python 3"
    }
  },
  "cells": [
    {
      "cell_type": "markdown",
      "metadata": {
        "id": "view-in-github",
        "colab_type": "text"
      },
      "source": [
        "<a href=\"https://colab.research.google.com/github/patricksabry/UTS_ML2019_ID98106545/blob/master/A3.ipynb\" target=\"_parent\"><img src=\"https://colab.research.google.com/assets/colab-badge.svg\" alt=\"Open In Colab\"/></a>"
      ]
    },
    {
      "cell_type": "markdown",
      "metadata": {
        "id": "zVlVytNT_hvI",
        "colab_type": "text"
      },
      "source": [
        "# Assignment 3 Take Home Exam\n",
        "\n",
        "##Question 3:\n",
        "\n",
        "**Marketing or advertising companies would be very interested in being able to\n",
        "predict whether a Twitter message will spread as a meme or not, and even better,\n",
        "construct it so that it will spread. Why is this a hard problem to solve? Describe two\n",
        "approaches using data analytics to predict whether a tweet will go viral or not. How\n",
        "would you validate these approaches? Discuss the ethical and social consequence\n",
        "of this study.**"
      ]
    },
    {
      "cell_type": "markdown",
      "metadata": {
        "id": "iXsdRnfU_xUr",
        "colab_type": "text"
      },
      "source": [
        "# Introduction"
      ]
    },
    {
      "cell_type": "markdown",
      "metadata": {
        "id": "UL1SDLIaAsp4",
        "colab_type": "text"
      },
      "source": [
        "# Current Solutions"
      ]
    },
    {
      "cell_type": "markdown",
      "metadata": {
        "id": "Ek8pCG8G_zan",
        "colab_type": "text"
      },
      "source": [
        "# Ethical and Social Implications"
      ]
    },
    {
      "cell_type": "markdown",
      "metadata": {
        "id": "k49u5-p3A1gw",
        "colab_type": "text"
      },
      "source": [
        "# Conclusion"
      ]
    },
    {
      "cell_type": "markdown",
      "metadata": {
        "id": "PcZI2UP7A3q6",
        "colab_type": "text"
      },
      "source": [
        "# References"
      ]
    },
    {
      "cell_type": "markdown",
      "metadata": {
        "id": "WgoOa2NxEslJ",
        "colab_type": "text"
      },
      "source": [
        "# Draft area (Research notes)\n"
      ]
    }
  ]
}