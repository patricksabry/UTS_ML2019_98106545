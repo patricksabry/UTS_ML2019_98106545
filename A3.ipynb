{
  "nbformat": 4,
  "nbformat_minor": 0,
  "metadata": {
    "colab": {
      "name": "A3.ipynb",
      "provenance": [],
      "include_colab_link": true
    },
    "kernelspec": {
      "name": "python3",
      "display_name": "Python 3"
    }
  },
  "cells": [
    {
      "cell_type": "markdown",
      "metadata": {
        "id": "view-in-github",
        "colab_type": "text"
      },
      "source": [
        "<a href=\"https://colab.research.google.com/github/patricksabry/UTS_ML2019_ID98106545/blob/master/A3.ipynb\" target=\"_parent\"><img src=\"https://colab.research.google.com/assets/colab-badge.svg\" alt=\"Open In Colab\"/></a>"
      ]
    },
    {
      "cell_type": "markdown",
      "metadata": {
        "id": "zVlVytNT_hvI",
        "colab_type": "text"
      },
      "source": [
        "# Assignment 3 Take Home Exam\n",
        "\n",
        "##Question 3:\n",
        "\n",
        "**Marketing or advertising companies would be very interested in being able to\n",
        "predict whether a Twitter message will spread as a meme or not, and even better,\n",
        "construct it so that it will spread. Why is this a hard problem to solve? Describe two\n",
        "approaches using data analytics to predict whether a tweet will go viral or not. How\n",
        "would you validate these approaches? Discuss the ethical and social consequence\n",
        "of this study.**"
      ]
    },
    {
      "cell_type": "markdown",
      "metadata": {
        "id": "iXsdRnfU_xUr",
        "colab_type": "text"
      },
      "source": [
        "# Introduction\n",
        "\n",
        "What truly constitutes a meme? \n",
        "Perpetual improvements in accessibility to the internet has given rise to a new age of online media hyperconsumption in the form of images, video and social media networks. Large scale social media platforms such as twitter have become formidable mediums for effortless wide scale information propagation. Any user can choose to share their opinion on a product or post a humerous picture with the chance of it becoming a viral sensation on twitter. It is however that very definition of virality that is so difficult to qualify and break down into concrete quantitative attributes. A meme was first defined as a unit of cultural transmission (Dawkins, 1976). Accordingly, the success of a meme in respect to virality is arguably contingent on a plethora of sociocultural or geo-political at a given time. Memes tend to provide an opinionated commentary on the state of current affairs and the flaws of the human condition, typically formed on the tenants of humour and self-deprication. It is thus hard to quantify an object which is inherently so dynamic and subjective when approaching this topic from a data analytics perspective. This research paper serves to explore possible solutions to predicting meme virality, as well as delve deeper into the socio-ethical implications of building such predictive systems."
      ]
    },
    {
      "cell_type": "markdown",
      "metadata": {
        "id": "UL1SDLIaAsp4",
        "colab_type": "text"
      },
      "source": [
        "# Current Solutions\n",
        "\n"
      ]
    },
    {
      "cell_type": "markdown",
      "metadata": {
        "id": "Ek8pCG8G_zan",
        "colab_type": "text"
      },
      "source": [
        "# Ethical and Social Implications"
      ]
    },
    {
      "cell_type": "markdown",
      "metadata": {
        "id": "k49u5-p3A1gw",
        "colab_type": "text"
      },
      "source": [
        "# Conclusion"
      ]
    },
    {
      "cell_type": "markdown",
      "metadata": {
        "id": "PcZI2UP7A3q6",
        "colab_type": "text"
      },
      "source": [
        "# References\n",
        "\n",
        "* http://www.scielo.org.co/pdf/cesp/v6n2/v6n2a07.pdf\n"
      ]
    },
    {
      "cell_type": "markdown",
      "metadata": {
        "id": "WgoOa2NxEslJ",
        "colab_type": "text"
      },
      "source": [
        "# Draft area (Research notes)\n"
      ]
    }
  ]
}